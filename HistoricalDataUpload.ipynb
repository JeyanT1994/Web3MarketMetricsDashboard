{
 "cells": [
  {
   "cell_type": "code",
   "execution_count": 5,
   "id": "69fb305e-f763-4c95-923a-a2d70c85c548",
   "metadata": {},
   "outputs": [],
   "source": [
    "import requests\n",
    "from datetime import datetime\n",
    "import pandas as pd\n",
    "import time\n",
    "from google.cloud import bigquery\n",
    "import os"
   ]
  },
  {
   "cell_type": "code",
   "execution_count": null,
   "id": "0e605ddc-a768-4e4a-8b22-8aa2e434e143",
   "metadata": {},
   "outputs": [],
   "source": [
    "credentials_path = 'chainlink-455803-8d7e35b14f53.json'"
   ]
  },
  {
   "cell_type": "code",
   "execution_count": null,
   "id": "f9c64b44-4971-45b5-bd3e-4d6180ee0452",
   "metadata": {},
   "outputs": [],
   "source": [
    "os.environ['GOOGLE_APPLICATION_CREDENTIALS'] = credentials_path"
   ]
  },
  {
   "cell_type": "code",
   "execution_count": 315,
   "id": "6e119639-70dd-4a73-9b73-63106c4a86dd",
   "metadata": {},
   "outputs": [],
   "source": [
    "chains = ['Bitcoin', 'Ethereum', 'Solana', 'Cardano', 'Ripple']"
   ]
  },
  {
   "cell_type": "code",
   "execution_count": 7,
   "id": "2a5c96e9-4938-4f23-af94-1b841ab35375",
   "metadata": {},
   "outputs": [],
   "source": [
    "current_timestamp = datetime.now()"
   ]
  },
  {
   "cell_type": "code",
   "execution_count": null,
   "id": "56214b9c-e093-43cb-9679-e42e370b0999",
   "metadata": {},
   "outputs": [],
   "source": [
    "client = bigquery.Client()"
   ]
  },
  {
   "cell_type": "markdown",
   "id": "c8fda08c-0e4a-4d4d-8886-f43ac15553b8",
   "metadata": {},
   "source": [
    "## Total Value Locked"
   ]
  },
  {
   "cell_type": "code",
   "execution_count": 318,
   "id": "41e92614-0830-4151-be15-6c92205d5219",
   "metadata": {},
   "outputs": [],
   "source": [
    "tvl_formatted_json_response = []\n",
    "for chain in chains:\n",
    "    url = 'https://api.llama.fi/v2/historicalChainTvl/{chain}'.format(chain=chain)\n",
    "    response = requests.get(url)\n",
    "    for row in response.json():\n",
    "        new_row = {}\n",
    "        new_row['EXTRACT_TIME'] = current_timestamp.strftime(\"%Y-%m-%d %H:%M:%S\")\n",
    "        new_row['BLOCKCHAIN'] = chain.upper()\n",
    "        new_row['DATE'] = datetime.fromtimestamp(row['date']).strftime(\"%Y-%m-%d\")\n",
    "        new_row['TVL'] = row['tvl']\n",
    "        tvl_formatted_json_response += [new_row]"
   ]
  },
  {
   "cell_type": "code",
   "execution_count": null,
   "id": "87a2845a-b612-4512-8808-6fac163e01b8",
   "metadata": {},
   "outputs": [],
   "source": [
    "errors = client.insert_rows_json(tvl_table_id, tvl_formatted_json_response)"
   ]
  },
  {
   "cell_type": "code",
   "execution_count": null,
   "id": "a7fb94e0-f5c0-4a77-82ef-23aa23397430",
   "metadata": {},
   "outputs": [],
   "source": [
    "if errors:\n",
    "    print(\"Ran into errors uploading!\")"
   ]
  },
  {
   "cell_type": "markdown",
   "id": "a631c7a2-d1a1-49fe-8202-3be4cd22e016",
   "metadata": {},
   "source": [
    "## Total Stablecoin Marketcap"
   ]
  },
  {
   "cell_type": "code",
   "execution_count": 327,
   "id": "87e8c43f-2adc-49f0-a089-92f0d6edfa90",
   "metadata": {},
   "outputs": [],
   "source": [
    "stablecoin_marketcap_formatted_json_response = []\n",
    "for chain in chains:\n",
    "    if chain.upper() != \"BITCOIN\":\n",
    "        url = \"https://stablecoins.llama.fi/stablecoincharts/{chain}\".format(chain=chain)\n",
    "        response = requests.get(url)\n",
    "        for row in response.json():\n",
    "            new_row = {}\n",
    "            new_row['EXTRACT_TIME'] = current_timestamp.strftime(\"%Y-%m-%d %H:%M:%S\")\n",
    "            new_row['BLOCKCHAIN'] = chain.upper()\n",
    "            new_row['DATE'] = datetime.fromtimestamp(int(row['date'])).strftime(\"%Y-%m-%d\")\n",
    "            new_row['STABLECOIN_MARKETCAP'] = int(row['totalCirculating']['peggedUSD'])\n",
    "            stablecoin_marketcap_formatted_json_response += [new_row]"
   ]
  },
  {
   "cell_type": "code",
   "execution_count": null,
   "id": "18ce4295-9192-41ec-a46e-92475746642a",
   "metadata": {},
   "outputs": [],
   "source": [
    "errors = client.insert_rows_json(stablecoin_marketcap_table_id, stablecoin_marketcap_formatted_json_response)"
   ]
  },
  {
   "cell_type": "code",
   "execution_count": null,
   "id": "3e8d93f7-6e1a-43cf-a274-4e5ba5cacbe9",
   "metadata": {},
   "outputs": [],
   "source": [
    "if errors:\n",
    "    print(\"Ran into errors uploading!\")"
   ]
  },
  {
   "cell_type": "markdown",
   "id": "441b5501-86ee-4267-923d-be3f8e7a5032",
   "metadata": {},
   "source": [
    "## Total Market Cap and Volume"
   ]
  },
  {
   "cell_type": "code",
   "execution_count": 336,
   "id": "80f36a7b-6f10-4d31-99e6-1c5bc33b0a46",
   "metadata": {},
   "outputs": [],
   "source": [
    "marketcap_formatted_json_response = []\n",
    "volume_formatted_json_response = []\n",
    "currency = 'usd'\n",
    "days = '365'\n",
    "cg_api_key = 'CG-i5kd5dR33FYgvAr5jV2frxZG'\n",
    "for chain in chains:\n",
    "    time.sleep(1)\n",
    "    chain = chain.lower()\n",
    "    url = \"https://api.coingecko.com/api/v3/coins/{chain}/market_chart?vs_currency={currency}&days={days}\".format(chain=chain, currency=currency,days=days)\n",
    "    headers = {\"accept\": \"application/json\", \"x-cg-pro-api-key\": cg_api_key}\n",
    "    response = requests.get(url)\n",
    "    \n",
    "    for row in response.json()['market_caps']:\n",
    "        new_row = {}\n",
    "        new_row['EXTRACT_TIME'] = current_timestamp.strftime(\"%Y-%m-%d %H:%M:%S\")\n",
    "        new_row['BLOCKCHAIN'] = chain.upper()\n",
    "        new_row['DATE'] = datetime.fromtimestamp(row[0]/1000).strftime(\"%Y-%m-%d\")\n",
    "        new_row['MARKETCAP'] = int(row[1])\n",
    "        marketcap_formatted_json_response += [new_row]\n",
    "\n",
    "    for row in response.json()['total_volumes']:\n",
    "        new_row = {}\n",
    "        new_row['EXTRACT_TIME'] = current_timestamp.strftime(\"%Y-%m-%d %H:%M:%S\")\n",
    "        new_row['BLOCKCHAIN'] = chain.upper()\n",
    "        new_row['DATE'] = datetime.fromtimestamp(row[0]/1000).strftime(\"%Y-%m-%d\")\n",
    "        new_row['VOLUME'] = int(row[1])\n",
    "        volume_formatted_json_response += [new_row]"
   ]
  },
  {
   "cell_type": "code",
   "execution_count": null,
   "id": "b45dac3c-e552-4c80-a51c-b824d9760ce5",
   "metadata": {},
   "outputs": [],
   "source": [
    "errors = client.insert_rows_json(marketcap_table_id, marketcap_formatted_json_response)"
   ]
  },
  {
   "cell_type": "code",
   "execution_count": null,
   "id": "74601803-a59d-4f9e-8a85-e3db41d1d205",
   "metadata": {},
   "outputs": [],
   "source": [
    "if errors:\n",
    "    print(\"Ran into errors uploading!\")"
   ]
  },
  {
   "cell_type": "code",
   "execution_count": null,
   "id": "fb357b49-0406-4544-85c7-b2fb2190bfb7",
   "metadata": {},
   "outputs": [],
   "source": [
    "errors = client.insert_rows_json(volume_table_id, volume_formatted_json_response)"
   ]
  },
  {
   "cell_type": "code",
   "execution_count": null,
   "id": "58d12c44-35ac-43b4-b2fd-a2a8ecb39e3e",
   "metadata": {},
   "outputs": [],
   "source": [
    "if errors:\n",
    "    print(\"Ran into errors uploading!\")"
   ]
  },
  {
   "cell_type": "code",
   "execution_count": null,
   "id": "4e8457db-327c-4402-b2ac-ff5534ffda54",
   "metadata": {},
   "outputs": [],
   "source": []
  }
 ],
 "metadata": {
  "kernelspec": {
   "display_name": "Python [conda env:base] *",
   "language": "python",
   "name": "conda-base-py"
  },
  "language_info": {
   "codemirror_mode": {
    "name": "ipython",
    "version": 3
   },
   "file_extension": ".py",
   "mimetype": "text/x-python",
   "name": "python",
   "nbconvert_exporter": "python",
   "pygments_lexer": "ipython3",
   "version": "3.12.7"
  }
 },
 "nbformat": 4,
 "nbformat_minor": 5
}
